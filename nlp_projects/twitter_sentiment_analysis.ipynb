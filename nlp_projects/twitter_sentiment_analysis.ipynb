{
 "cells": [
  {
   "cell_type": "code",
   "execution_count": 1,
   "id": "1ccbee55-d294-46ca-bbbb-0dd1d4430858",
   "metadata": {},
   "outputs": [],
   "source": [
    "import numpy as np\n",
    "import pandas as pd\n",
    "import os"
   ]
  },
  {
   "cell_type": "code",
   "execution_count": 2,
   "id": "7d209bd6-dd34-49be-8f7a-030a8705e58b",
   "metadata": {},
   "outputs": [],
   "source": [
    "import warnings\n",
    "warnings.filterwarnings('ignore')"
   ]
  },
  {
   "cell_type": "code",
   "execution_count": 3,
   "id": "a40fe046-a5be-4a2c-8667-cf5116d4ce65",
   "metadata": {},
   "outputs": [],
   "source": [
    "columns = [\"target\",\"id\",\"date\",\"flag\",\"user\",\"tweet\"]"
   ]
  },
  {
   "cell_type": "code",
   "execution_count": 4,
   "id": "c6436d20-e147-4d21-8739-c2c0687f9f01",
   "metadata": {},
   "outputs": [],
   "source": [
    "path = \"../all_datasets/nlp/training.1600000.processed.noemoticon.csv\""
   ]
  },
  {
   "cell_type": "code",
   "execution_count": 5,
   "id": "0519b852-09c1-4a49-8eb7-e1ad809bf6bf",
   "metadata": {},
   "outputs": [
    {
     "data": {
      "text/html": [
       "<div>\n",
       "<style scoped>\n",
       "    .dataframe tbody tr th:only-of-type {\n",
       "        vertical-align: middle;\n",
       "    }\n",
       "\n",
       "    .dataframe tbody tr th {\n",
       "        vertical-align: top;\n",
       "    }\n",
       "\n",
       "    .dataframe thead th {\n",
       "        text-align: right;\n",
       "    }\n",
       "</style>\n",
       "<table border=\"1\" class=\"dataframe\">\n",
       "  <thead>\n",
       "    <tr style=\"text-align: right;\">\n",
       "      <th></th>\n",
       "      <th>target</th>\n",
       "      <th>id</th>\n",
       "      <th>date</th>\n",
       "      <th>flag</th>\n",
       "      <th>user</th>\n",
       "      <th>tweet</th>\n",
       "    </tr>\n",
       "  </thead>\n",
       "  <tbody>\n",
       "    <tr>\n",
       "      <th>0</th>\n",
       "      <td>0</td>\n",
       "      <td>1467810369</td>\n",
       "      <td>Mon Apr 06 22:19:45 PDT 2009</td>\n",
       "      <td>NO_QUERY</td>\n",
       "      <td>_TheSpecialOne_</td>\n",
       "      <td>@switchfoot http://twitpic.com/2y1zl - Awww, t...</td>\n",
       "    </tr>\n",
       "    <tr>\n",
       "      <th>1</th>\n",
       "      <td>0</td>\n",
       "      <td>1467810672</td>\n",
       "      <td>Mon Apr 06 22:19:49 PDT 2009</td>\n",
       "      <td>NO_QUERY</td>\n",
       "      <td>scotthamilton</td>\n",
       "      <td>is upset that he can't update his Facebook by ...</td>\n",
       "    </tr>\n",
       "    <tr>\n",
       "      <th>2</th>\n",
       "      <td>0</td>\n",
       "      <td>1467810917</td>\n",
       "      <td>Mon Apr 06 22:19:53 PDT 2009</td>\n",
       "      <td>NO_QUERY</td>\n",
       "      <td>mattycus</td>\n",
       "      <td>@Kenichan I dived many times for the ball. Man...</td>\n",
       "    </tr>\n",
       "    <tr>\n",
       "      <th>3</th>\n",
       "      <td>0</td>\n",
       "      <td>1467811184</td>\n",
       "      <td>Mon Apr 06 22:19:57 PDT 2009</td>\n",
       "      <td>NO_QUERY</td>\n",
       "      <td>ElleCTF</td>\n",
       "      <td>my whole body feels itchy and like its on fire</td>\n",
       "    </tr>\n",
       "    <tr>\n",
       "      <th>4</th>\n",
       "      <td>0</td>\n",
       "      <td>1467811193</td>\n",
       "      <td>Mon Apr 06 22:19:57 PDT 2009</td>\n",
       "      <td>NO_QUERY</td>\n",
       "      <td>Karoli</td>\n",
       "      <td>@nationwideclass no, it's not behaving at all....</td>\n",
       "    </tr>\n",
       "  </tbody>\n",
       "</table>\n",
       "</div>"
      ],
      "text/plain": [
       "   target          id                          date      flag  \\\n",
       "0       0  1467810369  Mon Apr 06 22:19:45 PDT 2009  NO_QUERY   \n",
       "1       0  1467810672  Mon Apr 06 22:19:49 PDT 2009  NO_QUERY   \n",
       "2       0  1467810917  Mon Apr 06 22:19:53 PDT 2009  NO_QUERY   \n",
       "3       0  1467811184  Mon Apr 06 22:19:57 PDT 2009  NO_QUERY   \n",
       "4       0  1467811193  Mon Apr 06 22:19:57 PDT 2009  NO_QUERY   \n",
       "\n",
       "              user                                              tweet  \n",
       "0  _TheSpecialOne_  @switchfoot http://twitpic.com/2y1zl - Awww, t...  \n",
       "1    scotthamilton  is upset that he can't update his Facebook by ...  \n",
       "2         mattycus  @Kenichan I dived many times for the ball. Man...  \n",
       "3          ElleCTF    my whole body feels itchy and like its on fire   \n",
       "4           Karoli  @nationwideclass no, it's not behaving at all....  "
      ]
     },
     "execution_count": 5,
     "metadata": {},
     "output_type": "execute_result"
    }
   ],
   "source": [
    "df = pd.read_csv( path, \n",
    "                 names=columns , \n",
    "                 encoding=\"ISO-8859-1\" )\n",
    "\n",
    "df.head()"
   ]
  },
  {
   "cell_type": "code",
   "execution_count": null,
   "id": "1c1d2ece-8bd8-4601-9e53-53034a7e5db6",
   "metadata": {},
   "outputs": [],
   "source": []
  },
  {
   "cell_type": "markdown",
   "id": "0f881089-a488-42bc-bef6-957bcfdb6b7e",
   "metadata": {},
   "source": [
    "### Check for the null values"
   ]
  },
  {
   "cell_type": "code",
   "execution_count": 6,
   "id": "237b0a32-ee3d-4635-9405-0af04708a863",
   "metadata": {},
   "outputs": [
    {
     "name": "stdout",
     "output_type": "stream",
     "text": [
      "<class 'pandas.core.frame.DataFrame'>\n",
      "RangeIndex: 1600000 entries, 0 to 1599999\n",
      "Data columns (total 6 columns):\n",
      " #   Column  Non-Null Count    Dtype \n",
      "---  ------  --------------    ----- \n",
      " 0   target  1600000 non-null  int64 \n",
      " 1   id      1600000 non-null  int64 \n",
      " 2   date    1600000 non-null  object\n",
      " 3   flag    1600000 non-null  object\n",
      " 4   user    1600000 non-null  object\n",
      " 5   tweet   1600000 non-null  object\n",
      "dtypes: int64(2), object(4)\n",
      "memory usage: 73.2+ MB\n"
     ]
    }
   ],
   "source": [
    "df.info()"
   ]
  },
  {
   "cell_type": "code",
   "execution_count": 7,
   "id": "3568863f-4e62-4f3d-97aa-036b0970353c",
   "metadata": {},
   "outputs": [
    {
     "data": {
      "text/plain": [
       "target\n",
       "0    800000\n",
       "4    800000\n",
       "Name: count, dtype: int64"
      ]
     },
     "execution_count": 7,
     "metadata": {},
     "output_type": "execute_result"
    }
   ],
   "source": [
    "df[\"target\"].value_counts()"
   ]
  },
  {
   "cell_type": "code",
   "execution_count": null,
   "id": "fc59d22c-1603-4232-8ac9-44a9d07a1c15",
   "metadata": {},
   "outputs": [],
   "source": []
  },
  {
   "cell_type": "markdown",
   "id": "80ce36f2-0554-4182-a4b6-5de419868d05",
   "metadata": {},
   "source": [
    "# change 4 to 1\n",
    "# 0--> negative tweet\n",
    "# 1--> positive tweet"
   ]
  },
  {
   "cell_type": "code",
   "execution_count": 8,
   "id": "ae094b52-9e65-4592-9207-8a7fe2be57df",
   "metadata": {},
   "outputs": [],
   "source": [
    "df[\"target\"] = df[\"target\"].replace( to_replace=4,value=1 )"
   ]
  },
  {
   "cell_type": "code",
   "execution_count": 9,
   "id": "a55d602e-0cf0-481e-b947-696bcfe74c5a",
   "metadata": {},
   "outputs": [
    {
     "data": {
      "text/plain": [
       "target\n",
       "0    800000\n",
       "1    800000\n",
       "Name: count, dtype: int64"
      ]
     },
     "execution_count": 9,
     "metadata": {},
     "output_type": "execute_result"
    }
   ],
   "source": [
    "df[\"target\"].value_counts()"
   ]
  },
  {
   "cell_type": "code",
   "execution_count": 10,
   "id": "6ad4e9cb-efd7-4568-b2b4-667141bf00fc",
   "metadata": {},
   "outputs": [],
   "source": [
    "delete_columns = [ 'id', 'date', 'flag', 'user']"
   ]
  },
  {
   "cell_type": "code",
   "execution_count": 11,
   "id": "69d60d38-a185-43dd-84ee-5ab2dcdc8a02",
   "metadata": {},
   "outputs": [
    {
     "data": {
      "text/html": [
       "<div>\n",
       "<style scoped>\n",
       "    .dataframe tbody tr th:only-of-type {\n",
       "        vertical-align: middle;\n",
       "    }\n",
       "\n",
       "    .dataframe tbody tr th {\n",
       "        vertical-align: top;\n",
       "    }\n",
       "\n",
       "    .dataframe thead th {\n",
       "        text-align: right;\n",
       "    }\n",
       "</style>\n",
       "<table border=\"1\" class=\"dataframe\">\n",
       "  <thead>\n",
       "    <tr style=\"text-align: right;\">\n",
       "      <th></th>\n",
       "      <th>target</th>\n",
       "      <th>tweet</th>\n",
       "    </tr>\n",
       "  </thead>\n",
       "  <tbody>\n",
       "    <tr>\n",
       "      <th>0</th>\n",
       "      <td>0</td>\n",
       "      <td>@switchfoot http://twitpic.com/2y1zl - Awww, t...</td>\n",
       "    </tr>\n",
       "    <tr>\n",
       "      <th>1</th>\n",
       "      <td>0</td>\n",
       "      <td>is upset that he can't update his Facebook by ...</td>\n",
       "    </tr>\n",
       "    <tr>\n",
       "      <th>2</th>\n",
       "      <td>0</td>\n",
       "      <td>@Kenichan I dived many times for the ball. Man...</td>\n",
       "    </tr>\n",
       "    <tr>\n",
       "      <th>3</th>\n",
       "      <td>0</td>\n",
       "      <td>my whole body feels itchy and like its on fire</td>\n",
       "    </tr>\n",
       "    <tr>\n",
       "      <th>4</th>\n",
       "      <td>0</td>\n",
       "      <td>@nationwideclass no, it's not behaving at all....</td>\n",
       "    </tr>\n",
       "  </tbody>\n",
       "</table>\n",
       "</div>"
      ],
      "text/plain": [
       "   target                                              tweet\n",
       "0       0  @switchfoot http://twitpic.com/2y1zl - Awww, t...\n",
       "1       0  is upset that he can't update his Facebook by ...\n",
       "2       0  @Kenichan I dived many times for the ball. Man...\n",
       "3       0    my whole body feels itchy and like its on fire \n",
       "4       0  @nationwideclass no, it's not behaving at all...."
      ]
     },
     "execution_count": 11,
     "metadata": {},
     "output_type": "execute_result"
    }
   ],
   "source": [
    "df.drop( columns=delete_columns,inplace=True )\n",
    "\n",
    "df.head()"
   ]
  },
  {
   "cell_type": "code",
   "execution_count": null,
   "id": "094d0e4c-932e-4fcd-94c7-b04bee731dd6",
   "metadata": {},
   "outputs": [],
   "source": []
  },
  {
   "cell_type": "markdown",
   "id": "ce986937-a8f1-4f31-a52b-c6a52b26d02c",
   "metadata": {},
   "source": [
    "### import all the required NLP packages"
   ]
  },
  {
   "cell_type": "code",
   "execution_count": 12,
   "id": "49234a38-452f-42fc-afa9-15f24d0061e0",
   "metadata": {},
   "outputs": [],
   "source": [
    "import re\n",
    "from nltk.corpus import stopwords\n",
    "from nltk.stem.porter import PorterStemmer\n",
    "from sklearn.feature_extraction.text import TfidfVectorizer"
   ]
  },
  {
   "cell_type": "code",
   "execution_count": 13,
   "id": "d4e82360-40d2-457c-a922-a441857a56a0",
   "metadata": {},
   "outputs": [],
   "source": [
    "from sklearn.model_selection import train_test_split\n",
    "from sklearn.linear_model import LogisticRegression\n",
    "from sklearn.metrics import accuracy_score"
   ]
  },
  {
   "cell_type": "code",
   "execution_count": 14,
   "id": "3f34935a-5661-4ae8-b1f5-5f82f53e0307",
   "metadata": {},
   "outputs": [],
   "source": [
    "port_stem = PorterStemmer()"
   ]
  },
  {
   "cell_type": "code",
   "execution_count": 15,
   "id": "3af765e4-6761-4265-894c-1b65884dfbac",
   "metadata": {},
   "outputs": [],
   "source": [
    "def stemming( content ):\n",
    "\n",
    "    #  keep only the alphabets\n",
    "    stemed_content = re.sub( '[^a-zA-Z]' , ' ',content )\n",
    "\n",
    "    # convert into lower case\n",
    "    stemed_content = stemed_content.lower()\n",
    "\n",
    "    #  convert into list\n",
    "    stemed_content = stemed_content.split()\n",
    "\n",
    "    # convert into stems\n",
    "    stemed_content = [ port_stem.stem(word) for word in  stemed_content if not word in stopwords.words('english') ]\n",
    "\n",
    "    # join the list of strings\n",
    "    stemed_content = ' '.join(stemed_content)\n",
    "    \n",
    "    # print(stemed_content)\n",
    "    \n",
    "    return stemed_content"
   ]
  },
  {
   "cell_type": "code",
   "execution_count": null,
   "id": "a1ef46d7-5afb-4e4f-b938-05a7301f60a6",
   "metadata": {},
   "outputs": [],
   "source": []
  },
  {
   "cell_type": "code",
   "execution_count": null,
   "id": "4f8194bd-32ca-48e9-898e-db9c3c5e614a",
   "metadata": {},
   "outputs": [],
   "source": [
    "df['tweet_stemp'] = df['tweet'].apply( stemming )"
   ]
  },
  {
   "cell_type": "code",
   "execution_count": null,
   "id": "2f358834-bd56-4120-b016-c445208ee20f",
   "metadata": {},
   "outputs": [],
   "source": [
    "df.head()"
   ]
  },
  {
   "cell_type": "code",
   "execution_count": null,
   "id": "73cc073c-a23b-4375-99b5-cfeafcc8d9c2",
   "metadata": {},
   "outputs": [],
   "source": []
  },
  {
   "cell_type": "markdown",
   "id": "24626c57-65c3-457c-938d-36c4cdfbdce1",
   "metadata": {},
   "source": [
    "### seperate the independent and dependent features"
   ]
  },
  {
   "cell_type": "code",
   "execution_count": null,
   "id": "d1366151-72f1-449a-9ddc-d3580ea67e25",
   "metadata": {},
   "outputs": [],
   "source": [
    "X = df['tweet_stemp'].astype(str).tolist()\n",
    "y = df['target'].values"
   ]
  },
  {
   "cell_type": "code",
   "execution_count": null,
   "id": "cea67e3b-2c30-456e-b1e4-f2b3a279954e",
   "metadata": {},
   "outputs": [],
   "source": [
    "vectorizer = TfidfVectorizer()"
   ]
  },
  {
   "cell_type": "code",
   "execution_count": null,
   "id": "e9c1e34a-1b86-4739-821e-a012cd930312",
   "metadata": {},
   "outputs": [],
   "source": []
  },
  {
   "cell_type": "markdown",
   "id": "56e6262c-536c-424c-af6d-42408703b960",
   "metadata": {},
   "source": [
    "### split the data into train and test"
   ]
  },
  {
   "cell_type": "code",
   "execution_count": null,
   "id": "ac1c943c-c22f-455a-959b-29b7f6135165",
   "metadata": {},
   "outputs": [],
   "source": [
    "X_train , X_test , y_train , y_test = train_test_split( X , y , test_size = 0.25 , random_state = 42 )"
   ]
  },
  {
   "cell_type": "code",
   "execution_count": null,
   "id": "79457c7d-0209-41f5-8c67-e43124801188",
   "metadata": {},
   "outputs": [],
   "source": [
    "X_train_vector = vectorizer.fit_transform( X_train )\n",
    "\n",
    "X_test_vector = vectorizer.transform( X_test )"
   ]
  },
  {
   "cell_type": "code",
   "execution_count": null,
   "id": "7a3b6798-ff3f-4d68-8130-46b96fc5b44d",
   "metadata": {},
   "outputs": [],
   "source": []
  },
  {
   "cell_type": "markdown",
   "id": "65b03245-4354-4d56-9512-4d61ce4d819e",
   "metadata": {},
   "source": [
    "### Models importing"
   ]
  },
  {
   "cell_type": "code",
   "execution_count": null,
   "id": "77c91ca1-437b-4d2e-a923-1451b93beafb",
   "metadata": {},
   "outputs": [],
   "source": [
    "from sklearn.svm import SVC\n",
    "from sklearn.naive_bayes import GaussianNB\n",
    "from sklearn.ensemble import RandomForestClassifier"
   ]
  },
  {
   "cell_type": "code",
   "execution_count": null,
   "id": "a24aa38b-d407-44f0-9d48-c36975ade2f5",
   "metadata": {},
   "outputs": [],
   "source": [
    "from sklearn.metrics import accuracy_score,classification_report,confusion_matrix"
   ]
  },
  {
   "cell_type": "code",
   "execution_count": null,
   "id": "2af4d5b7-2553-49d3-a3ca-c9fad22db1d8",
   "metadata": {},
   "outputs": [],
   "source": [
    "gnb = GaussianNB()\n",
    "svc = SVC()\n",
    "rfc = RandomForestClassifier()"
   ]
  },
  {
   "cell_type": "code",
   "execution_count": null,
   "id": "5c6b0c1b-050f-4722-b477-0f33b74be10c",
   "metadata": {},
   "outputs": [],
   "source": []
  },
  {
   "cell_type": "markdown",
   "id": "a355697b-82bb-41a8-9207-4ee05a81a83f",
   "metadata": {},
   "source": [
    "### Random Forest training and results"
   ]
  },
  {
   "cell_type": "code",
   "execution_count": null,
   "id": "40e33ee1-cb5f-4ebc-9e50-9f0d6fe3bf77",
   "metadata": {},
   "outputs": [],
   "source": [
    "rfc.fit( X_train_vector , y_train )\n",
    "y_rfc_pred = rfc.predict(X_test)"
   ]
  },
  {
   "cell_type": "code",
   "execution_count": null,
   "id": "68ba0213-a11a-426e-8ff3-96777447eda7",
   "metadata": {},
   "outputs": [],
   "source": [
    "print( confusion_matrix(y_test  , y_rfc_pred) )\n",
    "\n",
    "print(f'Accuracy Score of Random Forest: {accuracy_score(y_test  , y_rfc_pred)}')\n",
    "\n",
    "print( classification_report(y_test  , y_rfc_pred)  )\n"
   ]
  },
  {
   "cell_type": "code",
   "execution_count": null,
   "id": "f2efd114-5fa2-4c1e-a0e6-d7af52cc5101",
   "metadata": {},
   "outputs": [],
   "source": []
  },
  {
   "cell_type": "markdown",
   "id": "f902b43f-0a51-417b-b3c9-d69c8d5c8093",
   "metadata": {},
   "source": [
    "### Naive bayes training and results"
   ]
  },
  {
   "cell_type": "code",
   "execution_count": null,
   "id": "72133197-8ffa-4d88-85a0-00c704ad0794",
   "metadata": {},
   "outputs": [],
   "source": []
  },
  {
   "cell_type": "code",
   "execution_count": null,
   "id": "0f7ccd9e-17f1-4d84-b934-4cbe4d687448",
   "metadata": {},
   "outputs": [],
   "source": [
    "# gnb.fit( X_train_vector , y_train )\n",
    "# y_gnb_pred = gnb.predict(X_test)"
   ]
  },
  {
   "cell_type": "code",
   "execution_count": null,
   "id": "296efb6d-62c8-4098-97f5-395effdeb744",
   "metadata": {},
   "outputs": [],
   "source": [
    "# print( confusion_matrix(y_test  , y_gnb_pred) )\n",
    "\n",
    "# print(f'Accuracy Score of Naive Bayes: {accuracy_score(y_test  , y_gnb_pred)}')\n",
    "\n",
    "# print( classification_report(y_test  , y_gnb_pred)  )\n"
   ]
  },
  {
   "cell_type": "code",
   "execution_count": null,
   "id": "e396ef86-a51f-43a5-860a-26b5092fd31b",
   "metadata": {},
   "outputs": [],
   "source": []
  },
  {
   "cell_type": "markdown",
   "id": "dd233b6e-8639-413f-975d-ee9ce7e116c9",
   "metadata": {},
   "source": [
    "### Support vector machine training and results"
   ]
  },
  {
   "cell_type": "code",
   "execution_count": null,
   "id": "03c5b290-5794-4b1c-a0f7-6184872251b9",
   "metadata": {},
   "outputs": [],
   "source": []
  },
  {
   "cell_type": "code",
   "execution_count": null,
   "id": "82731bfe-fedc-497e-ad23-5822ec50ab73",
   "metadata": {},
   "outputs": [],
   "source": [
    "# svc.fit( X_train_vector , y_train )\n",
    "# y_svc_pred = rfc.predict(X_test)"
   ]
  },
  {
   "cell_type": "code",
   "execution_count": null,
   "id": "a2f736c2-22a3-4050-91f3-683eec284692",
   "metadata": {},
   "outputs": [],
   "source": [
    "# print( confusion_matrix(y_test  , y_svc_pred) )\n",
    "\n",
    "# print(f'Accuracy Score of SVC: {accuracy_score(y_test  , y_svc_pred)}')\n",
    "\n",
    "# print( classification_report(y_test  , y_svc_pred)  )\n"
   ]
  }
 ],
 "metadata": {
  "kernelspec": {
   "display_name": "Python 3 (ipykernel)",
   "language": "python",
   "name": "python3"
  },
  "language_info": {
   "codemirror_mode": {
    "name": "ipython",
    "version": 3
   },
   "file_extension": ".py",
   "mimetype": "text/x-python",
   "name": "python",
   "nbconvert_exporter": "python",
   "pygments_lexer": "ipython3",
   "version": "3.12.4"
  }
 },
 "nbformat": 4,
 "nbformat_minor": 5
}
